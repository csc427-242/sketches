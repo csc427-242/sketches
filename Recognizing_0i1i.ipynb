{
 "cells": [
  {
   "cell_type": "markdown",
   "id": "c4bec8eb",
   "metadata": {},
   "source": [
    "### Recognizing 0{i}1{i} in Python\n",
    "\n",
    "\n",
    "_Burt Rosenberg_\n",
    "<br>\n",
    "_21 Feb 2024_\n",
    "\n",
    "Although a string like `0{i}1{i}` cannot be recognized by a finite automata, it can be recognized by\n",
    "a program. In this approach, what we need beyond a finite automata is a `count` that is not \n",
    "bound by any finite value."
   ]
  },
  {
   "cell_type": "code",
   "execution_count": 1,
   "id": "89d35cce",
   "metadata": {},
   "outputs": [],
   "source": [
    "# author: burt rosenberg\n",
    "# date: 21 feb 2024\n",
    "# all rights reserved (rolls eyes)\n",
    "\n",
    "def recognize_0i_1i(s):\n",
    "    \"\"\"\n",
    "    count is an unbounded positive integer. \n",
    "    the saw_one boolean imposes a form on the string.\n",
    "    \"\"\"\n",
    "    # precondition: s is in {0,1}*\n",
    "    count, saw_one = 0, False\n",
    "    for c in s:\n",
    "        if c=='1':\n",
    "            saw_one = True\n",
    "            count -= 1\n",
    "        else:\n",
    "            if saw_one:\n",
    "                return False\n",
    "            count += 1\n",
    "    return count==0\n"
   ]
  },
  {
   "cell_type": "code",
   "execution_count": 2,
   "id": "65f3a3f8",
   "metadata": {},
   "outputs": [
    {
     "name": "stdout",
     "output_type": "stream",
     "text": [
      "||\n",
      "|01|\n",
      "|0011|\n",
      "|000111|\n",
      "|00001111|\n",
      "|0000011111|\n",
      "|000000111111|\n",
      "|0|\n",
      "|000|\n",
      "|10100|\n",
      "|1101011|\n",
      "|110101010|\n",
      "|00110010000|\n",
      "|1011010110110|\n",
      "\n",
      "Test succeeds with n=7.\n"
     ]
    }
   ],
   "source": [
    "import random\n",
    "\n",
    "def test(n, verbose=False):\n",
    "    for i in range(n):\n",
    "        s = '0'*i+'1'*i\n",
    "        if verbose:\n",
    "            print(f'|{s}|')\n",
    "        assert( recognize_0i_1i(s))\n",
    "    for i in range(1,2*n,2):\n",
    "        s = ''.join(random.choices(['0','1'],k=i))\n",
    "        if verbose:\n",
    "            print(f'|{s}|')\n",
    "        assert( not recognize_0i_1i(s))\n",
    "    return True\n",
    "\n",
    "n = 7\n",
    "if  test(n, verbose=True):\n",
    "    print(f'\\nTest succeeds with n={n}.')\n",
    "        \n"
   ]
  },
  {
   "cell_type": "markdown",
   "id": "3ce6fca8",
   "metadata": {},
   "source": [
    "---\n",
    "\n",
    "End\n",
    "\n",
    "___\n"
   ]
  }
 ],
 "metadata": {
  "kernelspec": {
   "display_name": "Python 3 (ipykernel)",
   "language": "python",
   "name": "python3"
  },
  "language_info": {
   "codemirror_mode": {
    "name": "ipython",
    "version": 3
   },
   "file_extension": ".py",
   "mimetype": "text/x-python",
   "name": "python",
   "nbconvert_exporter": "python",
   "pygments_lexer": "ipython3",
   "version": "3.9.7"
  }
 },
 "nbformat": 4,
 "nbformat_minor": 5
}
